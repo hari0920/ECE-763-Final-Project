{
 "cells": [
  {
   "cell_type": "markdown",
   "metadata": {
    "collapsed": true
   },
   "source": [
    ""
   ]
  },
  {
   "cell_type": "heading",
   "metadata": {},
   "level": 5,
   "source": [
    "Basics Of Tensorflow and Numpy"
   ]
  },
  {
   "cell_type": "markdown",
   "metadata": {},
   "source": [
    "\n",
    "This notebook will go over some of the basic operations in numpy and the tensorflow equivalent."
   ]
  },
  {
   "cell_type": "code",
   "execution_count": 14,
   "metadata": {},
   "outputs": [
    {
     "name": "stdout",
     "output_type": "stream",
     "text": [
      "blas_opt_info:\n    libraries = ['mkl_rt']\n    define_macros = [('SCIPY_MKL_H', None), ('HAVE_CBLAS', None)]\n    library_dirs = ['C:/Users/Hariharan/Anaconda3/envs/Deep\\\\Library\\\\lib']\n    include_dirs = ['C:\\\\Program Files (x86)\\\\IntelSWTools\\\\compilers_and_libraries_2016.4.246\\\\windows\\\\mkl', 'C:\\\\Program Files (x86)\\\\IntelSWTools\\\\compilers_and_libraries_2016.4.246\\\\windows\\\\mkl\\\\include', 'C:\\\\Program Files (x86)\\\\IntelSWTools\\\\compilers_and_libraries_2016.4.246\\\\windows\\\\mkl\\\\lib', 'C:/Users/Hariharan/Anaconda3/envs/Deep\\\\Library\\\\include']\nlapack_opt_info:\n    libraries = ['mkl_rt']\n    define_macros = [('SCIPY_MKL_H', None), ('HAVE_CBLAS', None)]\n    library_dirs = ['C:/Users/Hariharan/Anaconda3/envs/Deep\\\\Library\\\\lib']\n    include_dirs = ['C:\\\\Program Files (x86)\\\\IntelSWTools\\\\compilers_and_libraries_2016.4.246\\\\windows\\\\mkl', 'C:\\\\Program Files (x86)\\\\IntelSWTools\\\\compilers_and_libraries_2016.4.246\\\\windows\\\\mkl\\\\include', 'C:\\\\Program Files (x86)\\\\IntelSWTools\\\\compilers_and_libraries_2016.4.246\\\\windows\\\\mkl\\\\lib', 'C:/Users/Hariharan/Anaconda3/envs/Deep\\\\Library\\\\include']\nlapack_mkl_info:\n    libraries = ['mkl_rt']\n    define_macros = [('SCIPY_MKL_H', None), ('HAVE_CBLAS', None)]\n    library_dirs = ['C:/Users/Hariharan/Anaconda3/envs/Deep\\\\Library\\\\lib']\n    include_dirs = ['C:\\\\Program Files (x86)\\\\IntelSWTools\\\\compilers_and_libraries_2016.4.246\\\\windows\\\\mkl', 'C:\\\\Program Files (x86)\\\\IntelSWTools\\\\compilers_and_libraries_2016.4.246\\\\windows\\\\mkl\\\\include', 'C:\\\\Program Files (x86)\\\\IntelSWTools\\\\compilers_and_libraries_2016.4.246\\\\windows\\\\mkl\\\\lib', 'C:/Users/Hariharan/Anaconda3/envs/Deep\\\\Library\\\\include']\nblas_mkl_info:\n    libraries = ['mkl_rt']\n    define_macros = [('SCIPY_MKL_H', None), ('HAVE_CBLAS', None)]\n    library_dirs = ['C:/Users/Hariharan/Anaconda3/envs/Deep\\\\Library\\\\lib']\n    include_dirs = ['C:\\\\Program Files (x86)\\\\IntelSWTools\\\\compilers_and_libraries_2016.4.246\\\\windows\\\\mkl', 'C:\\\\Program Files (x86)\\\\IntelSWTools\\\\compilers_and_libraries_2016.4.246\\\\windows\\\\mkl\\\\include', 'C:\\\\Program Files (x86)\\\\IntelSWTools\\\\compilers_and_libraries_2016.4.246\\\\windows\\\\mkl\\\\lib', 'C:/Users/Hariharan/Anaconda3/envs/Deep\\\\Library\\\\include']\nmkl_info:\n    libraries = ['mkl_rt']\n    define_macros = [('SCIPY_MKL_H', None), ('HAVE_CBLAS', None)]\n    library_dirs = ['C:/Users/Hariharan/Anaconda3/envs/Deep\\\\Library\\\\lib']\n    include_dirs = ['C:\\\\Program Files (x86)\\\\IntelSWTools\\\\compilers_and_libraries_2016.4.246\\\\windows\\\\mkl', 'C:\\\\Program Files (x86)\\\\IntelSWTools\\\\compilers_and_libraries_2016.4.246\\\\windows\\\\mkl\\\\include', 'C:\\\\Program Files (x86)\\\\IntelSWTools\\\\compilers_and_libraries_2016.4.246\\\\windows\\\\mkl\\\\lib', 'C:/Users/Hariharan/Anaconda3/envs/Deep\\\\Library\\\\include']\n"
     ]
    }
   ],
   "source": [
    "#Author: Hariharan Ramshankar\n",
    "import tensorflow as tf\n",
    "import numpy as np\n",
    "import time\n",
    "from numpy.random import random\n",
    "\n",
    "np.__config__.show() #displays the config that your system has...check to see if you have Intel MKL linked with Numpy for Optimum Performance. Anaconda's numpy installs with MKL by default, so it is highly recommended.\n",
    "\n",
    "#Basic Matrix Operations in Numpy\n",
    "def test_eigenvalue(data):\n",
    "    result = np.linalg.eig(data)\n",
    "    \n",
    "def test_inv(data):\n",
    "    result =np.linalg.inv(data)\n",
    "    \n",
    "def test_svd(data):\n",
    "    result=np.linalg.svd(data)\n",
    "    \n",
    "def test_det(data):\n",
    "    result=np.linalg.det(data)\n",
    "    "
   ]
  },
  {
   "cell_type": "code",
   "execution_count": 37,
   "metadata": {},
   "outputs": [
    {
     "name": "stdout",
     "output_type": "stream",
     "text": [
      "Testing Numpy Functionality\ntest_eigenvalue -----0.17095\n  test_det -----0.00351\n  test_inv -----0.00802\n"
     ]
    },
    {
     "name": "stdout",
     "output_type": "stream",
     "text": [
      "  test_svd -----0.05064\n"
     ]
    }
   ],
   "source": [
    "#Sample Benchmark for Numpy vs MATLAB Performance Comparison\n",
    "#MATLAB takes 0.13 seconds approximately for eigenvalue computation of a 500*500 matrix\n",
    "i=500\n",
    "data=random((i,i))\n",
    "functions_list=[\"test_eigenvalue\",\"test_det\",\"test_inv\",\"test_svd\"]\n",
    "print(\"Testing Numpy Functionality\")\n",
    "for j in range(len(functions_list)):\n",
    "    start=time.time()\n",
    "    locals()[functions_list[j]](data)\n",
    "    stop=time.time()\n",
    "    print((\"%10s ----%3.5f\")%(functions_list[j],start-stop))\n"
   ]
  },
  {
   "cell_type": "code",
   "execution_count": 10,
   "metadata": {},
   "outputs": [],
   "source": []
  },
  {
   "cell_type": "code",
   "execution_count": null,
   "metadata": {},
   "outputs": [],
   "source": []
  }
 ],
 "metadata": {
  "kernelspec": {
   "display_name": "Python 2",
   "language": "python",
   "name": "python2"
  },
  "language_info": {
   "codemirror_mode": {
    "name": "ipython",
    "version": 2
   },
   "file_extension": ".py",
   "mimetype": "text/x-python",
   "name": "python",
   "nbconvert_exporter": "python",
   "pygments_lexer": "ipython2",
   "version": "2.7.6"
  }
 },
 "nbformat": 4,
 "nbformat_minor": 0
}
